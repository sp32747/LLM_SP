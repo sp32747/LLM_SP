{
 "cells": [
  {
   "cell_type": "code",
   "execution_count": null,
   "id": "a274730b-0eb5-45b1-90ec-6d7dd127f43d",
   "metadata": {},
   "outputs": [],
   "source": [
    "import os\n",
    "from langchain_openai import OpenAI\n",
    "\n",
    "openai_api_key =os.environ.get(\"OPENAI_API_KEY\")\n",
    "huggingface_token=os.environ.get(\"HUGGINGFACE_HUB_TOKEN\")\n",
    "gemini_api_key=os.environ.get(\"GEMINI_API_KEY\")\n",
    "\n",
    "print(openai_api_key)\n",
    "\n",
    "print(huggingface_token)\n",
    "\n",
    "\n",
    "\n"
   ]
  },
  {
   "cell_type": "markdown",
   "id": "67a0cbc4-c861-45e1-9b9e-8ea6f6e66752",
   "metadata": {},
   "source": [
    "### Hugging Face"
   ]
  },
  {
   "cell_type": "code",
   "execution_count": 15,
   "id": "55496938-ca22-4200-ae9f-9279897a79b7",
   "metadata": {},
   "outputs": [],
   "source": [
    "## !pip install huggingface_hub"
   ]
  },
  {
   "cell_type": "code",
   "execution_count": 16,
   "id": "ceab64cd-608d-4209-b8ba-1309b0ab69ac",
   "metadata": {},
   "outputs": [],
   "source": [
    "from langchain.llms import HuggingFaceEndpoint"
   ]
  },
  {
   "cell_type": "code",
   "execution_count": null,
   "id": "5abd2ae6-8b3c-4b51-9191-1fc93ebec7d9",
   "metadata": {},
   "outputs": [],
   "source": [
    "llm=HuggingFaceEndpoint(repo_id=\"mistralai/Mistral-7B-Instruct-v0.2\")"
   ]
  },
  {
   "cell_type": "code",
   "execution_count": 18,
   "id": "9ef09aa2-3630-44c3-b8ff-d233a737a58d",
   "metadata": {},
   "outputs": [],
   "source": [
    "# The LLM takes a prompt as an input and outputs a completion\n",
    "our_query = \"What is the currency of India?\"\n",
    "\n",
    "#langchain has recommended to use invoke function for the below please :)\n",
    "completion = llm.invoke(our_query)"
   ]
  },
  {
   "cell_type": "code",
   "execution_count": null,
   "id": "0b6b9898-4af8-4e24-8790-6795a6d81fe3",
   "metadata": {},
   "outputs": [],
   "source": [
    "print(completion)"
   ]
  },
  {
   "cell_type": "markdown",
   "id": "ed5174f9-173a-4806-8c41-76a07460f926",
   "metadata": {},
   "source": [
    "### For gemini\n",
    "#### https://ai.google.dev/"
   ]
  },
  {
   "cell_type": "code",
   "execution_count": null,
   "id": "544169ea-87bb-43b6-bc34-ec21e6252a14",
   "metadata": {},
   "outputs": [],
   "source": []
  },
  {
   "cell_type": "code",
   "execution_count": null,
   "id": "934d4f46-dec5-446c-9bc5-402c5364182a",
   "metadata": {},
   "outputs": [],
   "source": []
  },
  {
   "cell_type": "markdown",
   "id": "7bc52004-e618-40d4-82b5-fdb9c399bd25",
   "metadata": {},
   "source": [
    "<font color=green>\n",
    "          <h3>testing area</h3>\n",
    "</font>"
   ]
  },
  {
   "cell_type": "code",
   "execution_count": 37,
   "id": "9e1e930a-eb43-4289-870e-fb6452e8e63a",
   "metadata": {},
   "outputs": [],
   "source": [
    "from langchain.embeddings import OpenAIEmbeddings"
   ]
  },
  {
   "cell_type": "code",
   "execution_count": 38,
   "id": "ce29007e-036f-4ced-a41a-cb73e894fa43",
   "metadata": {},
   "outputs": [],
   "source": [
    "embeddings=OpenAIEmbeddings()"
   ]
  },
  {
   "cell_type": "code",
   "execution_count": 34,
   "id": "a56f4e06-1dea-44f2-9cf3-f6ecd656ab72",
   "metadata": {},
   "outputs": [],
   "source": [
    "text=\"i need an apple\""
   ]
  },
  {
   "cell_type": "code",
   "execution_count": 35,
   "id": "b0573f3b-78c3-4c62-9e84-bc5d9a839d9a",
   "metadata": {},
   "outputs": [],
   "source": [
    "embdding_vec=embeddings.embed_query(text)"
   ]
  },
  {
   "cell_type": "code",
   "execution_count": null,
   "id": "8ff51543-e33c-4976-99b1-ff9dc392910d",
   "metadata": {},
   "outputs": [],
   "source": [
    "len(embdding_vec)"
   ]
  },
  {
   "cell_type": "code",
   "execution_count": 39,
   "id": "c2ef9ca9-8dc4-4866-83c5-172a8d74dd20",
   "metadata": {},
   "outputs": [],
   "source": [
    "import pandas as pd"
   ]
  },
  {
   "cell_type": "code",
   "execution_count": 67,
   "id": "0e2bbb86-c9af-4a11-b040-0b5c1c1c32bd",
   "metadata": {},
   "outputs": [],
   "source": [
    "df=pd.read_excel(\"Data.xlsx\")"
   ]
  },
  {
   "cell_type": "code",
   "execution_count": null,
   "id": "9975f5cc-835b-434c-9231-fe8becd97df6",
   "metadata": {},
   "outputs": [],
   "source": [
    "df"
   ]
  },
  {
   "cell_type": "code",
   "execution_count": 69,
   "id": "e0f2687b-4b7a-4fe3-a1a3-c477121c94c6",
   "metadata": {},
   "outputs": [],
   "source": [
    "df['embeddings']=df['Words'].apply(lambda x:embeddings.embed_query(x))\n",
    "df.to_csv('word_embeddings.csv')"
   ]
  },
  {
   "cell_type": "code",
   "execution_count": null,
   "id": "766fcdef-01b5-489b-a4cd-d940512cea1d",
   "metadata": {},
   "outputs": [],
   "source": [
    "df"
   ]
  },
  {
   "cell_type": "code",
   "execution_count": 71,
   "id": "7230a6de-bb09-43fb-a885-e5c2116b7c71",
   "metadata": {},
   "outputs": [],
   "source": [
    "our_Text = \"Cat\""
   ]
  },
  {
   "cell_type": "code",
   "execution_count": 72,
   "id": "cca3d0ef-b344-450c-aaf8-1ce8249e5341",
   "metadata": {},
   "outputs": [],
   "source": [
    "text_embedding = embeddings.embed_query(our_Text)"
   ]
  },
  {
   "cell_type": "code",
   "execution_count": null,
   "id": "a8667107-bc40-44fd-b4ef-dc396c303bdf",
   "metadata": {},
   "outputs": [],
   "source": [
    "print (f\"Our embedding is {text_embedding}\")"
   ]
  },
  {
   "cell_type": "code",
   "execution_count": 77,
   "id": "fd325c30-778b-448b-97ea-f2bf900e1212",
   "metadata": {},
   "outputs": [],
   "source": [
    "from sklearn.metrics.pairwise import cosine_similarity"
   ]
  },
  {
   "cell_type": "markdown",
   "id": "74ee0f33-9ee3-435f-bb6c-c66381e5c09f",
   "metadata": {},
   "source": [
    "type\n",
    "\n",
    "df[\"similarity_score\"] = df['embeddings'].apply(lambda x: cosine_similarity(x, text_embedding))\n",
    "#cos_sim = cosine_similarity(A.reshape(1, -1), B.reshape(1, -1))\n",
    "df"
   ]
  },
  {
   "cell_type": "code",
   "execution_count": null,
   "id": "20182bc8-b1c7-46cb-a136-99b7bcfa5ec7",
   "metadata": {},
   "outputs": [],
   "source": []
  },
  {
   "cell_type": "code",
   "execution_count": null,
   "id": "c12f0ad6-a74f-4e17-b7d4-3d25e5f76fbc",
   "metadata": {},
   "outputs": [],
   "source": []
  },
  {
   "cell_type": "code",
   "execution_count": null,
   "id": "a7b919c4-7819-4137-ae50-84bac15e3426",
   "metadata": {},
   "outputs": [],
   "source": []
  },
  {
   "cell_type": "code",
   "execution_count": null,
   "id": "a1e8c6f4-d1ae-4ead-ac3b-ddf26ed849f8",
   "metadata": {},
   "outputs": [],
   "source": [
    "# embeddings_utils class has been remove by OpenAi from 1.1.version, so we will use the code to find the cosine similarity :)\n",
    "\n",
    "#from openai.embeddings_utils import cosine_similarity\n",
    "\n",
    "\n",
    "import numpy as np\n",
    "#Creating a function which will help us with finding the cosine_similarity score\n",
    "def cosine_similarity(a, b):\n",
    "    return np.dot(a, b) / (np.linalg.norm(a) * np.linalg.norm(b))\n",
    "\n",
    "df[\"similarity_score\"] = df['embeddings'].apply(lambda x: cosine_similarity(x, text_embedding))\n",
    "\n",
    "df"
   ]
  },
  {
   "cell_type": "code",
   "execution_count": null,
   "id": "f895abd9-7f38-4dc4-9920-235e64039fc5",
   "metadata": {},
   "outputs": [],
   "source": [
    "df.sort_values('similarity_score',ascending=False)\n",
    "df.head()"
   ]
  },
  {
   "cell_type": "code",
   "execution_count": null,
   "id": "cfba3636-eb6f-49f7-ba56-1dd0252e9429",
   "metadata": {},
   "outputs": [],
   "source": []
  },
  {
   "cell_type": "code",
   "execution_count": null,
   "id": "8d9e97eb-5751-47ec-a8f9-8e8ee18339e8",
   "metadata": {},
   "outputs": [],
   "source": []
  }
 ],
 "metadata": {
  "kernelspec": {
   "display_name": "Python 3 (ipykernel)",
   "language": "python",
   "name": "python3"
  },
  "language_info": {
   "codemirror_mode": {
    "name": "ipython",
    "version": 3
   },
   "file_extension": ".py",
   "mimetype": "text/x-python",
   "name": "python",
   "nbconvert_exporter": "python",
   "pygments_lexer": "ipython3",
   "version": "3.11.5"
  }
 },
 "nbformat": 4,
 "nbformat_minor": 5
}
